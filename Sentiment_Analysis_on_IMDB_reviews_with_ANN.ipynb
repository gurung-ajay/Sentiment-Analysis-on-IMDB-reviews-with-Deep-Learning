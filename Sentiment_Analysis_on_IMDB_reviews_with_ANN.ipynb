{
  "nbformat": 4,
  "nbformat_minor": 0,
  "metadata": {
    "colab": {
      "provenance": [],
      "gpuType": "T4",
      "toc_visible": true,
      "authorship_tag": "ABX9TyP8QrejAzV02npsRuqSxBW3",
      "include_colab_link": true
    },
    "kernelspec": {
      "name": "python3",
      "display_name": "Python 3"
    },
    "language_info": {
      "name": "python"
    },
    "accelerator": "GPU"
  },
  "cells": [
    {
      "cell_type": "markdown",
      "metadata": {
        "id": "view-in-github",
        "colab_type": "text"
      },
      "source": [
        "<a href=\"https://colab.research.google.com/github/gurung-ajay/Sentiment-Analysis-on-IMDB-reviews-with-Deep-Learning/blob/main/Sentiment_Analysis_on_IMDB_reviews_with_ANN.ipynb\" target=\"_parent\"><img src=\"https://colab.research.google.com/assets/colab-badge.svg\" alt=\"Open In Colab\"/></a>"
      ]
    },
    {
      "cell_type": "markdown",
      "source": [
        "# Sentiment Analysis on IMDB reviews with ANN models"
      ],
      "metadata": {
        "id": "Fw04gYn3f_jH"
      }
    },
    {
      "cell_type": "markdown",
      "source": [
        "Using: Tensorflow, Pandas and Matplotlib"
      ],
      "metadata": {
        "id": "HMF4I7dMH3dk"
      }
    },
    {
      "cell_type": "markdown",
      "source": [
        "In this project I am trying to build an Artificial Neural Network(ANN) model that trains on data about IMDB reviews which are classified as positive or negative. After training, it will be able to predict if a reivew is positive or negative on new data."
      ],
      "metadata": {
        "id": "KFCyF-J_B0E2"
      }
    },
    {
      "cell_type": "markdown",
      "source": [
        "Data consists of two columns:\n",
        "* First column has IMDB reviews\n",
        "* Second column has Sentiment"
      ],
      "metadata": {
        "id": "RbEWZdvGAyOF"
      }
    },
    {
      "cell_type": "markdown",
      "source": [
        "To find the best model, I have tried experimenting with three models: Simple Neural Network model, LSTM model and Bidirectional LSTM Model."
      ],
      "metadata": {
        "id": "BpK1rbe_CCyY"
      }
    },
    {
      "cell_type": "markdown",
      "source": [
        "Downloading datasets"
      ],
      "metadata": {
        "id": "NKovASsgf7cw"
      }
    },
    {
      "cell_type": "code",
      "execution_count": null,
      "metadata": {
        "colab": {
          "base_uri": "https://localhost:8080/"
        },
        "id": "UPhYGIGtfp2a",
        "outputId": "925fda9b-1b03-4c54-dce9-ca65c04c5940"
      },
      "outputs": [
        {
          "output_type": "stream",
          "name": "stdout",
          "text": [
            "Downloading...\n",
            "From: https://drive.google.com/uc?id=1_JycQl_WP8jBlU24k9USI4MstAooXovq\n",
            "To: /content/imdb_reviews.csv\n",
            "100% 31.7M/31.7M [00:00<00:00, 76.2MB/s]\n"
          ]
        }
      ],
      "source": [
        "!gdown https://drive.google.com/uc?id=1_JycQl_WP8jBlU24k9USI4MstAooXovq&export=download # train dataset"
      ]
    },
    {
      "cell_type": "code",
      "source": [
        "!gdown https://drive.google.com/uc?id=1lg3ELpSs162URKNF4lYSmA_W7Lifxtd0&export=download # test dataset"
      ],
      "metadata": {
        "colab": {
          "base_uri": "https://localhost:8080/"
        },
        "id": "u3FzY0Srh-53",
        "outputId": "ed5c960d-ea70-4022-dd16-496c445a4dca"
      },
      "execution_count": null,
      "outputs": [
        {
          "output_type": "stream",
          "name": "stdout",
          "text": [
            "Downloading...\n",
            "From: https://drive.google.com/uc?id=1lg3ELpSs162URKNF4lYSmA_W7Lifxtd0\n",
            "To: /content/test_reviews.csv\n",
            "100% 30.5M/30.5M [00:00<00:00, 82.5MB/s]\n"
          ]
        }
      ]
    },
    {
      "cell_type": "markdown",
      "source": [
        "# Importing Libraries"
      ],
      "metadata": {
        "id": "BrVZKmwOiINu"
      }
    },
    {
      "cell_type": "code",
      "source": [
        "import pandas as pd\n",
        "import tensorflow as tf\n",
        "import matplotlib.pyplot as plt"
      ],
      "metadata": {
        "id": "15Bqnm_5iBsQ"
      },
      "execution_count": null,
      "outputs": []
    },
    {
      "cell_type": "markdown",
      "source": [
        "# Preprocessing Data"
      ],
      "metadata": {
        "id": "7aOjZUAInn_0"
      }
    },
    {
      "cell_type": "code",
      "source": [
        "df_train = pd.read_csv('/content/imdb_reviews.csv')\n",
        "df_test = pd.read_csv('/content/test_reviews.csv')"
      ],
      "metadata": {
        "id": "73dgE5FJiVED"
      },
      "execution_count": null,
      "outputs": []
    },
    {
      "cell_type": "code",
      "source": [
        "df_train.head(2)"
      ],
      "metadata": {
        "colab": {
          "base_uri": "https://localhost:8080/",
          "height": 112
        },
        "id": "5YhSdO9JjSNF",
        "outputId": "c7cc087a-65c4-4734-fe51-056d31504f3f"
      },
      "execution_count": null,
      "outputs": [
        {
          "output_type": "execute_result",
          "data": {
            "text/plain": [
              "                                             Reviews Sentiment\n",
              "0  <START this film was just brilliant casting lo...  positive\n",
              "1  <START big hair big boobs bad music and a gian...  negative"
            ],
            "text/html": [
              "\n",
              "  <div id=\"df-883580c6-7a9f-4dfa-b108-3f8f4ce2e480\" class=\"colab-df-container\">\n",
              "    <div>\n",
              "<style scoped>\n",
              "    .dataframe tbody tr th:only-of-type {\n",
              "        vertical-align: middle;\n",
              "    }\n",
              "\n",
              "    .dataframe tbody tr th {\n",
              "        vertical-align: top;\n",
              "    }\n",
              "\n",
              "    .dataframe thead th {\n",
              "        text-align: right;\n",
              "    }\n",
              "</style>\n",
              "<table border=\"1\" class=\"dataframe\">\n",
              "  <thead>\n",
              "    <tr style=\"text-align: right;\">\n",
              "      <th></th>\n",
              "      <th>Reviews</th>\n",
              "      <th>Sentiment</th>\n",
              "    </tr>\n",
              "  </thead>\n",
              "  <tbody>\n",
              "    <tr>\n",
              "      <th>0</th>\n",
              "      <td>&lt;START this film was just brilliant casting lo...</td>\n",
              "      <td>positive</td>\n",
              "    </tr>\n",
              "    <tr>\n",
              "      <th>1</th>\n",
              "      <td>&lt;START big hair big boobs bad music and a gian...</td>\n",
              "      <td>negative</td>\n",
              "    </tr>\n",
              "  </tbody>\n",
              "</table>\n",
              "</div>\n",
              "    <div class=\"colab-df-buttons\">\n",
              "\n",
              "  <div class=\"colab-df-container\">\n",
              "    <button class=\"colab-df-convert\" onclick=\"convertToInteractive('df-883580c6-7a9f-4dfa-b108-3f8f4ce2e480')\"\n",
              "            title=\"Convert this dataframe to an interactive table.\"\n",
              "            style=\"display:none;\">\n",
              "\n",
              "  <svg xmlns=\"http://www.w3.org/2000/svg\" height=\"24px\" viewBox=\"0 -960 960 960\">\n",
              "    <path d=\"M120-120v-720h720v720H120Zm60-500h600v-160H180v160Zm220 220h160v-160H400v160Zm0 220h160v-160H400v160ZM180-400h160v-160H180v160Zm440 0h160v-160H620v160ZM180-180h160v-160H180v160Zm440 0h160v-160H620v160Z\"/>\n",
              "  </svg>\n",
              "    </button>\n",
              "\n",
              "  <style>\n",
              "    .colab-df-container {\n",
              "      display:flex;\n",
              "      gap: 12px;\n",
              "    }\n",
              "\n",
              "    .colab-df-convert {\n",
              "      background-color: #E8F0FE;\n",
              "      border: none;\n",
              "      border-radius: 50%;\n",
              "      cursor: pointer;\n",
              "      display: none;\n",
              "      fill: #1967D2;\n",
              "      height: 32px;\n",
              "      padding: 0 0 0 0;\n",
              "      width: 32px;\n",
              "    }\n",
              "\n",
              "    .colab-df-convert:hover {\n",
              "      background-color: #E2EBFA;\n",
              "      box-shadow: 0px 1px 2px rgba(60, 64, 67, 0.3), 0px 1px 3px 1px rgba(60, 64, 67, 0.15);\n",
              "      fill: #174EA6;\n",
              "    }\n",
              "\n",
              "    .colab-df-buttons div {\n",
              "      margin-bottom: 4px;\n",
              "    }\n",
              "\n",
              "    [theme=dark] .colab-df-convert {\n",
              "      background-color: #3B4455;\n",
              "      fill: #D2E3FC;\n",
              "    }\n",
              "\n",
              "    [theme=dark] .colab-df-convert:hover {\n",
              "      background-color: #434B5C;\n",
              "      box-shadow: 0px 1px 3px 1px rgba(0, 0, 0, 0.15);\n",
              "      filter: drop-shadow(0px 1px 2px rgba(0, 0, 0, 0.3));\n",
              "      fill: #FFFFFF;\n",
              "    }\n",
              "  </style>\n",
              "\n",
              "    <script>\n",
              "      const buttonEl =\n",
              "        document.querySelector('#df-883580c6-7a9f-4dfa-b108-3f8f4ce2e480 button.colab-df-convert');\n",
              "      buttonEl.style.display =\n",
              "        google.colab.kernel.accessAllowed ? 'block' : 'none';\n",
              "\n",
              "      async function convertToInteractive(key) {\n",
              "        const element = document.querySelector('#df-883580c6-7a9f-4dfa-b108-3f8f4ce2e480');\n",
              "        const dataTable =\n",
              "          await google.colab.kernel.invokeFunction('convertToInteractive',\n",
              "                                                    [key], {});\n",
              "        if (!dataTable) return;\n",
              "\n",
              "        const docLinkHtml = 'Like what you see? Visit the ' +\n",
              "          '<a target=\"_blank\" href=https://colab.research.google.com/notebooks/data_table.ipynb>data table notebook</a>'\n",
              "          + ' to learn more about interactive tables.';\n",
              "        element.innerHTML = '';\n",
              "        dataTable['output_type'] = 'display_data';\n",
              "        await google.colab.output.renderOutput(dataTable, element);\n",
              "        const docLink = document.createElement('div');\n",
              "        docLink.innerHTML = docLinkHtml;\n",
              "        element.appendChild(docLink);\n",
              "      }\n",
              "    </script>\n",
              "  </div>\n",
              "\n",
              "\n",
              "<div id=\"df-6fae2959-a5d8-4222-a7c3-ee71ca9e06df\">\n",
              "  <button class=\"colab-df-quickchart\" onclick=\"quickchart('df-6fae2959-a5d8-4222-a7c3-ee71ca9e06df')\"\n",
              "            title=\"Suggest charts.\"\n",
              "            style=\"display:none;\">\n",
              "\n",
              "<svg xmlns=\"http://www.w3.org/2000/svg\" height=\"24px\"viewBox=\"0 0 24 24\"\n",
              "     width=\"24px\">\n",
              "    <g>\n",
              "        <path d=\"M19 3H5c-1.1 0-2 .9-2 2v14c0 1.1.9 2 2 2h14c1.1 0 2-.9 2-2V5c0-1.1-.9-2-2-2zM9 17H7v-7h2v7zm4 0h-2V7h2v10zm4 0h-2v-4h2v4z\"/>\n",
              "    </g>\n",
              "</svg>\n",
              "  </button>\n",
              "\n",
              "<style>\n",
              "  .colab-df-quickchart {\n",
              "      --bg-color: #E8F0FE;\n",
              "      --fill-color: #1967D2;\n",
              "      --hover-bg-color: #E2EBFA;\n",
              "      --hover-fill-color: #174EA6;\n",
              "      --disabled-fill-color: #AAA;\n",
              "      --disabled-bg-color: #DDD;\n",
              "  }\n",
              "\n",
              "  [theme=dark] .colab-df-quickchart {\n",
              "      --bg-color: #3B4455;\n",
              "      --fill-color: #D2E3FC;\n",
              "      --hover-bg-color: #434B5C;\n",
              "      --hover-fill-color: #FFFFFF;\n",
              "      --disabled-bg-color: #3B4455;\n",
              "      --disabled-fill-color: #666;\n",
              "  }\n",
              "\n",
              "  .colab-df-quickchart {\n",
              "    background-color: var(--bg-color);\n",
              "    border: none;\n",
              "    border-radius: 50%;\n",
              "    cursor: pointer;\n",
              "    display: none;\n",
              "    fill: var(--fill-color);\n",
              "    height: 32px;\n",
              "    padding: 0;\n",
              "    width: 32px;\n",
              "  }\n",
              "\n",
              "  .colab-df-quickchart:hover {\n",
              "    background-color: var(--hover-bg-color);\n",
              "    box-shadow: 0 1px 2px rgba(60, 64, 67, 0.3), 0 1px 3px 1px rgba(60, 64, 67, 0.15);\n",
              "    fill: var(--button-hover-fill-color);\n",
              "  }\n",
              "\n",
              "  .colab-df-quickchart-complete:disabled,\n",
              "  .colab-df-quickchart-complete:disabled:hover {\n",
              "    background-color: var(--disabled-bg-color);\n",
              "    fill: var(--disabled-fill-color);\n",
              "    box-shadow: none;\n",
              "  }\n",
              "\n",
              "  .colab-df-spinner {\n",
              "    border: 2px solid var(--fill-color);\n",
              "    border-color: transparent;\n",
              "    border-bottom-color: var(--fill-color);\n",
              "    animation:\n",
              "      spin 1s steps(1) infinite;\n",
              "  }\n",
              "\n",
              "  @keyframes spin {\n",
              "    0% {\n",
              "      border-color: transparent;\n",
              "      border-bottom-color: var(--fill-color);\n",
              "      border-left-color: var(--fill-color);\n",
              "    }\n",
              "    20% {\n",
              "      border-color: transparent;\n",
              "      border-left-color: var(--fill-color);\n",
              "      border-top-color: var(--fill-color);\n",
              "    }\n",
              "    30% {\n",
              "      border-color: transparent;\n",
              "      border-left-color: var(--fill-color);\n",
              "      border-top-color: var(--fill-color);\n",
              "      border-right-color: var(--fill-color);\n",
              "    }\n",
              "    40% {\n",
              "      border-color: transparent;\n",
              "      border-right-color: var(--fill-color);\n",
              "      border-top-color: var(--fill-color);\n",
              "    }\n",
              "    60% {\n",
              "      border-color: transparent;\n",
              "      border-right-color: var(--fill-color);\n",
              "    }\n",
              "    80% {\n",
              "      border-color: transparent;\n",
              "      border-right-color: var(--fill-color);\n",
              "      border-bottom-color: var(--fill-color);\n",
              "    }\n",
              "    90% {\n",
              "      border-color: transparent;\n",
              "      border-bottom-color: var(--fill-color);\n",
              "    }\n",
              "  }\n",
              "</style>\n",
              "\n",
              "  <script>\n",
              "    async function quickchart(key) {\n",
              "      const quickchartButtonEl =\n",
              "        document.querySelector('#' + key + ' button');\n",
              "      quickchartButtonEl.disabled = true;  // To prevent multiple clicks.\n",
              "      quickchartButtonEl.classList.add('colab-df-spinner');\n",
              "      try {\n",
              "        const charts = await google.colab.kernel.invokeFunction(\n",
              "            'suggestCharts', [key], {});\n",
              "      } catch (error) {\n",
              "        console.error('Error during call to suggestCharts:', error);\n",
              "      }\n",
              "      quickchartButtonEl.classList.remove('colab-df-spinner');\n",
              "      quickchartButtonEl.classList.add('colab-df-quickchart-complete');\n",
              "    }\n",
              "    (() => {\n",
              "      let quickchartButtonEl =\n",
              "        document.querySelector('#df-6fae2959-a5d8-4222-a7c3-ee71ca9e06df button');\n",
              "      quickchartButtonEl.style.display =\n",
              "        google.colab.kernel.accessAllowed ? 'block' : 'none';\n",
              "    })();\n",
              "  </script>\n",
              "</div>\n",
              "    </div>\n",
              "  </div>\n"
            ]
          },
          "metadata": {},
          "execution_count": 5
        }
      ]
    },
    {
      "cell_type": "code",
      "source": [
        "df_test.head(2)"
      ],
      "metadata": {
        "colab": {
          "base_uri": "https://localhost:8080/",
          "height": 112
        },
        "id": "PX42oYbVniyc",
        "outputId": "2cd4a454-f2e4-4d6e-ae76-27c5e8ff0241"
      },
      "execution_count": null,
      "outputs": [
        {
          "output_type": "execute_result",
          "data": {
            "text/plain": [
              "                                             Reviews Sentiment\n",
              "0  <START please give this one a miss br br <UNK>...  negative\n",
              "1  <START this film requires a lot of patience be...  positive"
            ],
            "text/html": [
              "\n",
              "  <div id=\"df-fd4e73e9-d156-4f3f-86a6-7e378662bfe5\" class=\"colab-df-container\">\n",
              "    <div>\n",
              "<style scoped>\n",
              "    .dataframe tbody tr th:only-of-type {\n",
              "        vertical-align: middle;\n",
              "    }\n",
              "\n",
              "    .dataframe tbody tr th {\n",
              "        vertical-align: top;\n",
              "    }\n",
              "\n",
              "    .dataframe thead th {\n",
              "        text-align: right;\n",
              "    }\n",
              "</style>\n",
              "<table border=\"1\" class=\"dataframe\">\n",
              "  <thead>\n",
              "    <tr style=\"text-align: right;\">\n",
              "      <th></th>\n",
              "      <th>Reviews</th>\n",
              "      <th>Sentiment</th>\n",
              "    </tr>\n",
              "  </thead>\n",
              "  <tbody>\n",
              "    <tr>\n",
              "      <th>0</th>\n",
              "      <td>&lt;START please give this one a miss br br &lt;UNK&gt;...</td>\n",
              "      <td>negative</td>\n",
              "    </tr>\n",
              "    <tr>\n",
              "      <th>1</th>\n",
              "      <td>&lt;START this film requires a lot of patience be...</td>\n",
              "      <td>positive</td>\n",
              "    </tr>\n",
              "  </tbody>\n",
              "</table>\n",
              "</div>\n",
              "    <div class=\"colab-df-buttons\">\n",
              "\n",
              "  <div class=\"colab-df-container\">\n",
              "    <button class=\"colab-df-convert\" onclick=\"convertToInteractive('df-fd4e73e9-d156-4f3f-86a6-7e378662bfe5')\"\n",
              "            title=\"Convert this dataframe to an interactive table.\"\n",
              "            style=\"display:none;\">\n",
              "\n",
              "  <svg xmlns=\"http://www.w3.org/2000/svg\" height=\"24px\" viewBox=\"0 -960 960 960\">\n",
              "    <path d=\"M120-120v-720h720v720H120Zm60-500h600v-160H180v160Zm220 220h160v-160H400v160Zm0 220h160v-160H400v160ZM180-400h160v-160H180v160Zm440 0h160v-160H620v160ZM180-180h160v-160H180v160Zm440 0h160v-160H620v160Z\"/>\n",
              "  </svg>\n",
              "    </button>\n",
              "\n",
              "  <style>\n",
              "    .colab-df-container {\n",
              "      display:flex;\n",
              "      gap: 12px;\n",
              "    }\n",
              "\n",
              "    .colab-df-convert {\n",
              "      background-color: #E8F0FE;\n",
              "      border: none;\n",
              "      border-radius: 50%;\n",
              "      cursor: pointer;\n",
              "      display: none;\n",
              "      fill: #1967D2;\n",
              "      height: 32px;\n",
              "      padding: 0 0 0 0;\n",
              "      width: 32px;\n",
              "    }\n",
              "\n",
              "    .colab-df-convert:hover {\n",
              "      background-color: #E2EBFA;\n",
              "      box-shadow: 0px 1px 2px rgba(60, 64, 67, 0.3), 0px 1px 3px 1px rgba(60, 64, 67, 0.15);\n",
              "      fill: #174EA6;\n",
              "    }\n",
              "\n",
              "    .colab-df-buttons div {\n",
              "      margin-bottom: 4px;\n",
              "    }\n",
              "\n",
              "    [theme=dark] .colab-df-convert {\n",
              "      background-color: #3B4455;\n",
              "      fill: #D2E3FC;\n",
              "    }\n",
              "\n",
              "    [theme=dark] .colab-df-convert:hover {\n",
              "      background-color: #434B5C;\n",
              "      box-shadow: 0px 1px 3px 1px rgba(0, 0, 0, 0.15);\n",
              "      filter: drop-shadow(0px 1px 2px rgba(0, 0, 0, 0.3));\n",
              "      fill: #FFFFFF;\n",
              "    }\n",
              "  </style>\n",
              "\n",
              "    <script>\n",
              "      const buttonEl =\n",
              "        document.querySelector('#df-fd4e73e9-d156-4f3f-86a6-7e378662bfe5 button.colab-df-convert');\n",
              "      buttonEl.style.display =\n",
              "        google.colab.kernel.accessAllowed ? 'block' : 'none';\n",
              "\n",
              "      async function convertToInteractive(key) {\n",
              "        const element = document.querySelector('#df-fd4e73e9-d156-4f3f-86a6-7e378662bfe5');\n",
              "        const dataTable =\n",
              "          await google.colab.kernel.invokeFunction('convertToInteractive',\n",
              "                                                    [key], {});\n",
              "        if (!dataTable) return;\n",
              "\n",
              "        const docLinkHtml = 'Like what you see? Visit the ' +\n",
              "          '<a target=\"_blank\" href=https://colab.research.google.com/notebooks/data_table.ipynb>data table notebook</a>'\n",
              "          + ' to learn more about interactive tables.';\n",
              "        element.innerHTML = '';\n",
              "        dataTable['output_type'] = 'display_data';\n",
              "        await google.colab.output.renderOutput(dataTable, element);\n",
              "        const docLink = document.createElement('div');\n",
              "        docLink.innerHTML = docLinkHtml;\n",
              "        element.appendChild(docLink);\n",
              "      }\n",
              "    </script>\n",
              "  </div>\n",
              "\n",
              "\n",
              "<div id=\"df-2517350d-1f9b-48b6-87b1-151842a044a2\">\n",
              "  <button class=\"colab-df-quickchart\" onclick=\"quickchart('df-2517350d-1f9b-48b6-87b1-151842a044a2')\"\n",
              "            title=\"Suggest charts.\"\n",
              "            style=\"display:none;\">\n",
              "\n",
              "<svg xmlns=\"http://www.w3.org/2000/svg\" height=\"24px\"viewBox=\"0 0 24 24\"\n",
              "     width=\"24px\">\n",
              "    <g>\n",
              "        <path d=\"M19 3H5c-1.1 0-2 .9-2 2v14c0 1.1.9 2 2 2h14c1.1 0 2-.9 2-2V5c0-1.1-.9-2-2-2zM9 17H7v-7h2v7zm4 0h-2V7h2v10zm4 0h-2v-4h2v4z\"/>\n",
              "    </g>\n",
              "</svg>\n",
              "  </button>\n",
              "\n",
              "<style>\n",
              "  .colab-df-quickchart {\n",
              "      --bg-color: #E8F0FE;\n",
              "      --fill-color: #1967D2;\n",
              "      --hover-bg-color: #E2EBFA;\n",
              "      --hover-fill-color: #174EA6;\n",
              "      --disabled-fill-color: #AAA;\n",
              "      --disabled-bg-color: #DDD;\n",
              "  }\n",
              "\n",
              "  [theme=dark] .colab-df-quickchart {\n",
              "      --bg-color: #3B4455;\n",
              "      --fill-color: #D2E3FC;\n",
              "      --hover-bg-color: #434B5C;\n",
              "      --hover-fill-color: #FFFFFF;\n",
              "      --disabled-bg-color: #3B4455;\n",
              "      --disabled-fill-color: #666;\n",
              "  }\n",
              "\n",
              "  .colab-df-quickchart {\n",
              "    background-color: var(--bg-color);\n",
              "    border: none;\n",
              "    border-radius: 50%;\n",
              "    cursor: pointer;\n",
              "    display: none;\n",
              "    fill: var(--fill-color);\n",
              "    height: 32px;\n",
              "    padding: 0;\n",
              "    width: 32px;\n",
              "  }\n",
              "\n",
              "  .colab-df-quickchart:hover {\n",
              "    background-color: var(--hover-bg-color);\n",
              "    box-shadow: 0 1px 2px rgba(60, 64, 67, 0.3), 0 1px 3px 1px rgba(60, 64, 67, 0.15);\n",
              "    fill: var(--button-hover-fill-color);\n",
              "  }\n",
              "\n",
              "  .colab-df-quickchart-complete:disabled,\n",
              "  .colab-df-quickchart-complete:disabled:hover {\n",
              "    background-color: var(--disabled-bg-color);\n",
              "    fill: var(--disabled-fill-color);\n",
              "    box-shadow: none;\n",
              "  }\n",
              "\n",
              "  .colab-df-spinner {\n",
              "    border: 2px solid var(--fill-color);\n",
              "    border-color: transparent;\n",
              "    border-bottom-color: var(--fill-color);\n",
              "    animation:\n",
              "      spin 1s steps(1) infinite;\n",
              "  }\n",
              "\n",
              "  @keyframes spin {\n",
              "    0% {\n",
              "      border-color: transparent;\n",
              "      border-bottom-color: var(--fill-color);\n",
              "      border-left-color: var(--fill-color);\n",
              "    }\n",
              "    20% {\n",
              "      border-color: transparent;\n",
              "      border-left-color: var(--fill-color);\n",
              "      border-top-color: var(--fill-color);\n",
              "    }\n",
              "    30% {\n",
              "      border-color: transparent;\n",
              "      border-left-color: var(--fill-color);\n",
              "      border-top-color: var(--fill-color);\n",
              "      border-right-color: var(--fill-color);\n",
              "    }\n",
              "    40% {\n",
              "      border-color: transparent;\n",
              "      border-right-color: var(--fill-color);\n",
              "      border-top-color: var(--fill-color);\n",
              "    }\n",
              "    60% {\n",
              "      border-color: transparent;\n",
              "      border-right-color: var(--fill-color);\n",
              "    }\n",
              "    80% {\n",
              "      border-color: transparent;\n",
              "      border-right-color: var(--fill-color);\n",
              "      border-bottom-color: var(--fill-color);\n",
              "    }\n",
              "    90% {\n",
              "      border-color: transparent;\n",
              "      border-bottom-color: var(--fill-color);\n",
              "    }\n",
              "  }\n",
              "</style>\n",
              "\n",
              "  <script>\n",
              "    async function quickchart(key) {\n",
              "      const quickchartButtonEl =\n",
              "        document.querySelector('#' + key + ' button');\n",
              "      quickchartButtonEl.disabled = true;  // To prevent multiple clicks.\n",
              "      quickchartButtonEl.classList.add('colab-df-spinner');\n",
              "      try {\n",
              "        const charts = await google.colab.kernel.invokeFunction(\n",
              "            'suggestCharts', [key], {});\n",
              "      } catch (error) {\n",
              "        console.error('Error during call to suggestCharts:', error);\n",
              "      }\n",
              "      quickchartButtonEl.classList.remove('colab-df-spinner');\n",
              "      quickchartButtonEl.classList.add('colab-df-quickchart-complete');\n",
              "    }\n",
              "    (() => {\n",
              "      let quickchartButtonEl =\n",
              "        document.querySelector('#df-2517350d-1f9b-48b6-87b1-151842a044a2 button');\n",
              "      quickchartButtonEl.style.display =\n",
              "        google.colab.kernel.accessAllowed ? 'block' : 'none';\n",
              "    })();\n",
              "  </script>\n",
              "</div>\n",
              "    </div>\n",
              "  </div>\n"
            ]
          },
          "metadata": {},
          "execution_count": 6
        }
      ]
    },
    {
      "cell_type": "code",
      "source": [
        "df_train.shape"
      ],
      "metadata": {
        "colab": {
          "base_uri": "https://localhost:8080/"
        },
        "id": "4qljv7wInzEV",
        "outputId": "9a0c7e9d-1687-489f-db6f-623da6c4fe7b"
      },
      "execution_count": null,
      "outputs": [
        {
          "output_type": "execute_result",
          "data": {
            "text/plain": [
              "(25000, 2)"
            ]
          },
          "metadata": {},
          "execution_count": 7
        }
      ]
    },
    {
      "cell_type": "code",
      "source": [
        "df_train.isnull().value_counts()"
      ],
      "metadata": {
        "colab": {
          "base_uri": "https://localhost:8080/"
        },
        "id": "Yvdd_LbKnktk",
        "outputId": "7682dbaa-fa0c-4dcd-dec9-965018aaa767"
      },
      "execution_count": null,
      "outputs": [
        {
          "output_type": "execute_result",
          "data": {
            "text/plain": [
              "Reviews  Sentiment\n",
              "False    False        25000\n",
              "dtype: int64"
            ]
          },
          "metadata": {},
          "execution_count": 8
        }
      ]
    },
    {
      "cell_type": "code",
      "source": [
        "df_test.shape"
      ],
      "metadata": {
        "colab": {
          "base_uri": "https://localhost:8080/"
        },
        "id": "-7TLdT80nu6B",
        "outputId": "6cd7bd3b-da0b-460d-fb04-ca1d6aae48a3"
      },
      "execution_count": null,
      "outputs": [
        {
          "output_type": "execute_result",
          "data": {
            "text/plain": [
              "(25000, 2)"
            ]
          },
          "metadata": {},
          "execution_count": 9
        }
      ]
    },
    {
      "cell_type": "code",
      "source": [
        "df_test.isnull().value_counts()"
      ],
      "metadata": {
        "colab": {
          "base_uri": "https://localhost:8080/"
        },
        "id": "MRiuDPOWoHkY",
        "outputId": "0d44c272-3b8c-4021-eba7-66b31fb9758e"
      },
      "execution_count": null,
      "outputs": [
        {
          "output_type": "execute_result",
          "data": {
            "text/plain": [
              "Reviews  Sentiment\n",
              "False    False        25000\n",
              "dtype: int64"
            ]
          },
          "metadata": {},
          "execution_count": 10
        }
      ]
    },
    {
      "cell_type": "markdown",
      "source": [
        "There are no null values"
      ],
      "metadata": {
        "id": "8XkI7-jJoUQ9"
      }
    },
    {
      "cell_type": "markdown",
      "source": [
        "# Encoding variable to be predicted (Sentiment)"
      ],
      "metadata": {
        "id": "q4PBVXSmp-3U"
      }
    },
    {
      "cell_type": "code",
      "source": [
        "df_train['Sentiment'].unique()"
      ],
      "metadata": {
        "colab": {
          "base_uri": "https://localhost:8080/"
        },
        "id": "fyVrqNgMoKxJ",
        "outputId": "a75162df-3ba0-4c81-c8a7-cd5d6bf3df53"
      },
      "execution_count": null,
      "outputs": [
        {
          "output_type": "execute_result",
          "data": {
            "text/plain": [
              "array(['positive', 'negative'], dtype=object)"
            ]
          },
          "metadata": {},
          "execution_count": 11
        }
      ]
    },
    {
      "cell_type": "code",
      "source": [
        "df_test['Sentiment'].unique()"
      ],
      "metadata": {
        "colab": {
          "base_uri": "https://localhost:8080/"
        },
        "id": "SCn7eqoKojpa",
        "outputId": "b6f514d5-5de8-4474-b247-bcac6751dce1"
      },
      "execution_count": null,
      "outputs": [
        {
          "output_type": "execute_result",
          "data": {
            "text/plain": [
              "array(['negative', 'positive'], dtype=object)"
            ]
          },
          "metadata": {},
          "execution_count": 12
        }
      ]
    },
    {
      "cell_type": "code",
      "source": [
        "sentiment = df_train['Sentiment'].unique()\n",
        "mapper = dict(zip(sentiment, [0,1]))\n",
        "mapper"
      ],
      "metadata": {
        "colab": {
          "base_uri": "https://localhost:8080/"
        },
        "id": "dNNWKTzlonNU",
        "outputId": "b1245d9f-9036-449e-b6e9-dd6b90906ff8"
      },
      "execution_count": null,
      "outputs": [
        {
          "output_type": "execute_result",
          "data": {
            "text/plain": [
              "{'positive': 0, 'negative': 1}"
            ]
          },
          "metadata": {},
          "execution_count": 13
        }
      ]
    },
    {
      "cell_type": "code",
      "source": [
        "y_train = df_train['Sentiment'].map(mapper).astype(float)\n",
        "y_test = df_test['Sentiment'].map(mapper).astype(float)"
      ],
      "metadata": {
        "id": "OQD8bnNOpqUr"
      },
      "execution_count": null,
      "outputs": []
    },
    {
      "cell_type": "markdown",
      "source": [
        "# Encoding predictor variable (Reviews) by Converting Text to Vector\n",
        "\n"
      ],
      "metadata": {
        "id": "k_kPAhhNpbrM"
      }
    },
    {
      "cell_type": "code",
      "source": [
        "vocab_size = 2000\n",
        "output_sequence_length = 500\n",
        "vectorizer = tf.keras.layers.TextVectorization(max_tokens = vocab_size,\n",
        "                                               output_sequence_length = output_sequence_length\n",
        "                                               )"
      ],
      "metadata": {
        "id": "uw1XMJYKoxO6"
      },
      "execution_count": null,
      "outputs": []
    },
    {
      "cell_type": "code",
      "source": [
        "vectorizer.adapt(df_train['Reviews'])\n",
        "X_train_vector = vectorizer(df_train['Reviews'])\n",
        "X_test_vector = vectorizer(df_test['Reviews'])"
      ],
      "metadata": {
        "id": "c-UmvmNSsnX4"
      },
      "execution_count": null,
      "outputs": []
    },
    {
      "cell_type": "markdown",
      "source": [
        "# Simple Neural Network Model"
      ],
      "metadata": {
        "id": "nh81FqheQCIO"
      }
    },
    {
      "cell_type": "code",
      "source": [
        "model = tf.keras.models.Sequential()\n",
        "model.add(tf.keras.layers.Embedding(vocab_size, 16, input_length = output_sequence_length))\n",
        "model.add(tf.keras.layers.Dense(256, activation='relu'))\n",
        "model.add(tf.keras.layers.Dropout(0.2))\n",
        "model.add(tf.keras.layers.Dense(256, activation='relu'))\n",
        "model.add(tf.keras.layers.Dropout(0.2))\n",
        "model.add(tf.keras.layers.Dense(1, 'sigmoid'))\n",
        "\n",
        "optimizer = tf.keras.optimizers.Adam(learning_rate=0.001)\n",
        "\n",
        "model.compile(optimizer=optimizer, loss='binary_crossentropy', metrics='accuracy')"
      ],
      "metadata": {
        "id": "qlPOX-aDxw9J"
      },
      "execution_count": null,
      "outputs": []
    },
    {
      "cell_type": "code",
      "source": [
        "history = model.fit(X_train_vector,\n",
        "                    y_train,\n",
        "                    validation_data = (X_test_vector, y_test),\n",
        "                    epochs = 10)"
      ],
      "metadata": {
        "colab": {
          "base_uri": "https://localhost:8080/"
        },
        "id": "29mDEp0WzALB",
        "outputId": "845384b9-fb9b-4443-a8fa-28d397c8dc6c"
      },
      "execution_count": null,
      "outputs": [
        {
          "output_type": "stream",
          "name": "stdout",
          "text": [
            "Epoch 1/10\n",
            "782/782 [==============================] - 66s 77ms/step - loss: 0.6901 - accuracy: 0.5169 - val_loss: 0.6896 - val_accuracy: 0.5168\n",
            "Epoch 2/10\n",
            "782/782 [==============================] - 15s 19ms/step - loss: 0.6893 - accuracy: 0.5200 - val_loss: 0.6895 - val_accuracy: 0.5172\n",
            "Epoch 3/10\n",
            "782/782 [==============================] - 15s 20ms/step - loss: 0.6893 - accuracy: 0.5198 - val_loss: 0.6893 - val_accuracy: 0.5173\n",
            "Epoch 4/10\n",
            "782/782 [==============================] - 12s 15ms/step - loss: 0.6892 - accuracy: 0.5197 - val_loss: 0.6894 - val_accuracy: 0.5192\n",
            "Epoch 5/10\n",
            "782/782 [==============================] - 15s 20ms/step - loss: 0.6892 - accuracy: 0.5207 - val_loss: 0.6893 - val_accuracy: 0.5173\n",
            "Epoch 6/10\n",
            "782/782 [==============================] - 11s 14ms/step - loss: 0.6891 - accuracy: 0.5209 - val_loss: 0.6894 - val_accuracy: 0.5173\n",
            "Epoch 7/10\n",
            "782/782 [==============================] - 11s 14ms/step - loss: 0.6891 - accuracy: 0.5195 - val_loss: 0.6894 - val_accuracy: 0.5173\n",
            "Epoch 8/10\n",
            "782/782 [==============================] - 13s 16ms/step - loss: 0.6891 - accuracy: 0.5176 - val_loss: 0.6896 - val_accuracy: 0.5174\n",
            "Epoch 9/10\n",
            "782/782 [==============================] - 12s 15ms/step - loss: 0.6891 - accuracy: 0.5200 - val_loss: 0.6893 - val_accuracy: 0.5174\n",
            "Epoch 10/10\n",
            "782/782 [==============================] - 13s 17ms/step - loss: 0.6891 - accuracy: 0.5201 - val_loss: 0.6895 - val_accuracy: 0.5173\n"
          ]
        }
      ]
    },
    {
      "cell_type": "markdown",
      "source": [
        "Using this model, underfitting occurs. I have tried changing model parameters by:\n",
        "* adding more neurons to capture data complexity\n",
        "* change learning rate\n",
        "* changing embedding dimensions\n",
        "\n",
        "However, the model still didn't improve."
      ],
      "metadata": {
        "id": "EObsR5_kWFPs"
      }
    },
    {
      "cell_type": "code",
      "source": [
        "plt.plot(history.history['accuracy'], label = 'Training Accuracy')\n",
        "plt.plot(history.history['val_accuracy'], label = 'Testing Accuracy')\n",
        "plt.legend()\n",
        "plt.plot()"
      ],
      "metadata": {
        "colab": {
          "base_uri": "https://localhost:8080/",
          "height": 447
        },
        "id": "OYoTtWQizu62",
        "outputId": "8da213f1-b432-4d97-9e86-fe14f91a1d3d"
      },
      "execution_count": null,
      "outputs": [
        {
          "output_type": "execute_result",
          "data": {
            "text/plain": [
              "[]"
            ]
          },
          "metadata": {},
          "execution_count": 19
        },
        {
          "output_type": "display_data",
          "data": {
            "text/plain": [
              "<Figure size 640x480 with 1 Axes>"
            ],
            "image/png": "[encoded data removed]"
          },
          "metadata": {}
        }
      ]
    },
    {
      "cell_type": "code",
      "source": [
        "plt.plot(history.history['loss'], label = 'Training Loss')\n",
        "plt.plot(history.history['val_loss'], label = 'Testing Loss')\n",
        "plt.legend()\n",
        "plt.plot()"
      ],
      "metadata": {
        "colab": {
          "base_uri": "https://localhost:8080/",
          "height": 447
        },
        "id": "mn0QhRk942DR",
        "outputId": "19a1e25b-b277-4f10-da0b-7606bff0602f"
      },
      "execution_count": null,
      "outputs": [
        {
          "output_type": "execute_result",
          "data": {
            "text/plain": [
              "[]"
            ]
          },
          "metadata": {},
          "execution_count": 20
        },
        {
          "output_type": "display_data",
          "data": {
            "text/plain": [
              "<Figure size 640x480 with 1 Axes>"
            ],
            "image/png": "[encoded data removed]"
          },
          "metadata": {}
        }
      ]
    },
    {
      "cell_type": "markdown",
      "source": [
        "# LSTM Model"
      ],
      "metadata": {
        "id": "cFHiuVYZQEt-"
      }
    },
    {
      "cell_type": "code",
      "source": [
        "lstm_model = tf.keras.models.Sequential()\n",
        "lstm_model.add(tf.keras.layers.Embedding(vocab_size, 32, input_length = output_sequence_length))\n",
        "lstm_model.add(tf.keras.layers.LSTM(8, return_sequences=True))\n",
        "lstm_model.add(tf.keras.layers.LSTM(8))\n",
        "lstm_model.add(tf.keras.layers.Dense(256, activation='relu'))\n",
        "lstm_model.add(tf.keras.layers.Dense(256, activation='relu'))\n",
        "lstm_model.add(tf.keras.layers.Dense(1, 'sigmoid'))\n",
        "\n",
        "optimizer = tf.keras.optimizers.Adam(learning_rate=0.001)\n",
        "\n",
        "lstm_model.compile(optimizer=optimizer, loss='binary_crossentropy', metrics='accuracy')"
      ],
      "metadata": {
        "id": "5I_2BzjJ5_4x"
      },
      "execution_count": null,
      "outputs": []
    },
    {
      "cell_type": "code",
      "source": [
        "history1 = lstm_model.fit(X_train_vector,\n",
        "                    y_train,\n",
        "                    validation_data = (X_test_vector, y_test),\n",
        "                    epochs = 10)"
      ],
      "metadata": {
        "colab": {
          "base_uri": "https://localhost:8080/"
        },
        "id": "lcxD4m0g6Mbi",
        "outputId": "8182699f-9afa-41ab-d6e2-53dffbc9a5a0"
      },
      "execution_count": null,
      "outputs": [
        {
          "output_type": "stream",
          "name": "stdout",
          "text": [
            "Epoch 1/10\n",
            "782/782 [==============================] - 92s 110ms/step - loss: 0.6932 - accuracy: 0.5035 - val_loss: 0.6985 - val_accuracy: 0.5067\n",
            "Epoch 2/10\n",
            "782/782 [==============================] - 40s 52ms/step - loss: 0.6897 - accuracy: 0.5130 - val_loss: 0.6922 - val_accuracy: 0.5000\n",
            "Epoch 3/10\n",
            "782/782 [==============================] - 33s 42ms/step - loss: 0.6822 - accuracy: 0.5217 - val_loss: 0.6929 - val_accuracy: 0.5101\n",
            "Epoch 4/10\n",
            "782/782 [==============================] - 34s 44ms/step - loss: 0.6767 - accuracy: 0.5302 - val_loss: 0.7087 - val_accuracy: 0.5135\n",
            "Epoch 5/10\n",
            "782/782 [==============================] - 33s 42ms/step - loss: 0.6684 - accuracy: 0.5349 - val_loss: 0.7252 - val_accuracy: 0.5115\n",
            "Epoch 6/10\n",
            "782/782 [==============================] - 32s 41ms/step - loss: 0.6591 - accuracy: 0.5366 - val_loss: 0.7296 - val_accuracy: 0.5115\n",
            "Epoch 7/10\n",
            "782/782 [==============================] - 34s 43ms/step - loss: 0.6536 - accuracy: 0.5365 - val_loss: 0.7329 - val_accuracy: 0.5082\n",
            "Epoch 8/10\n",
            "782/782 [==============================] - 32s 41ms/step - loss: 0.6502 - accuracy: 0.5404 - val_loss: 0.7667 - val_accuracy: 0.5118\n",
            "Epoch 9/10\n",
            "782/782 [==============================] - 35s 44ms/step - loss: 0.6451 - accuracy: 0.5358 - val_loss: 0.8057 - val_accuracy: 0.5131\n",
            "Epoch 10/10\n",
            "782/782 [==============================] - 31s 39ms/step - loss: 0.6428 - accuracy: 0.5412 - val_loss: 0.7717 - val_accuracy: 0.5117\n"
          ]
        }
      ]
    },
    {
      "cell_type": "markdown",
      "source": [
        "The model still underfits with LSTM. I have tried to optimize it by:\n",
        "* LSTM stacking\n",
        "* increasing neuron size to increase complexity\n",
        "* change learning rate\n",
        "\n",
        "However, this model still underfits and can't learn from the dataset."
      ],
      "metadata": {
        "id": "WAhb5Ql-aEDc"
      }
    },
    {
      "cell_type": "code",
      "source": [
        "plt.plot(history1.history['accuracy'], label = 'Training Accuracy')\n",
        "plt.plot(history1.history['val_accuracy'], label = 'Testing Accuracy')\n",
        "plt.legend()\n",
        "plt.plot()"
      ],
      "metadata": {
        "colab": {
          "base_uri": "https://localhost:8080/",
          "height": 447
        },
        "id": "Nv75PsBb6iMO",
        "outputId": "66694550-b614-481a-f417-0961b4b88ca5"
      },
      "execution_count": null,
      "outputs": [
        {
          "output_type": "execute_result",
          "data": {
            "text/plain": [
              "[]"
            ]
          },
          "metadata": {},
          "execution_count": 23
        },
        {
          "output_type": "display_data",
          "data": {
            "text/plain": [
              "<Figure size 640x480 with 1 Axes>"
            ],
            "image/png": "[encoded data removed]"
          },
          "metadata": {}
        }
      ]
    },
    {
      "cell_type": "code",
      "source": [
        "plt.plot(history1.history['loss'], label = 'Training Loss')\n",
        "plt.plot(history1.history['val_loss'], label = 'Testing Loss')\n",
        "plt.legend()\n",
        "plt.plot()"
      ],
      "metadata": {
        "colab": {
          "base_uri": "https://localhost:8080/",
          "height": 447
        },
        "id": "LxnIwb5b8LHv",
        "outputId": "b088b7f1-693d-49d3-e7f1-d3915a3153f7"
      },
      "execution_count": null,
      "outputs": [
        {
          "output_type": "execute_result",
          "data": {
            "text/plain": [
              "[]"
            ]
          },
          "metadata": {},
          "execution_count": 24
        },
        {
          "output_type": "display_data",
          "data": {
            "text/plain": [
              "<Figure size 640x480 with 1 Axes>"
            ],
            "image/png": "[encoded data removed]"
          },
          "metadata": {}
        }
      ]
    },
    {
      "cell_type": "markdown",
      "source": [
        "# Bidirectional LSTM Model"
      ],
      "metadata": {
        "id": "TTjITds6-fDf"
      }
    },
    {
      "cell_type": "markdown",
      "source": [
        "Trying Bidirectinal LSTM as it might be able to capture the complexity of the data which LSTM model wasn't able to."
      ],
      "metadata": {
        "id": "VSBRE-B4A2DE"
      }
    },
    {
      "cell_type": "code",
      "source": [
        "bi_lstm_model = tf.keras.models.Sequential()\n",
        "bi_lstm_model.add(tf.keras.layers.Embedding(vocab_size, 16, input_length = output_sequence_length))\n",
        "bi_lstm_model.add(tf.keras.layers.Bidirectional(tf.keras.layers.LSTM(8)))\n",
        "bi_lstm_model.add(tf.keras.layers.Dense(128, activation='relu'))\n",
        "bi_lstm_model.add(tf.keras.layers.Dropout(0.5))\n",
        "bi_lstm_model.add(tf.keras.layers.Dense(1, 'sigmoid'))\n",
        "\n",
        "optimizer = tf.keras.optimizers.Adam(learning_rate=0.001)\n",
        "\n",
        "bi_lstm_model.compile(optimizer=optimizer, loss='binary_crossentropy', metrics='accuracy')"
      ],
      "metadata": {
        "id": "1flmKsC_8Va1"
      },
      "execution_count": null,
      "outputs": []
    },
    {
      "cell_type": "code",
      "source": [
        "history2 = bi_lstm_model.fit(X_train_vector,\n",
        "                     y_train,\n",
        "                     validation_data=(X_test_vector, y_test),\n",
        "                     epochs = 10\n",
        "                     )"
      ],
      "metadata": {
        "colab": {
          "base_uri": "https://localhost:8080/"
        },
        "id": "v5yA4uY0a6v4",
        "outputId": "818e9c50-15c4-471f-d019-16f87bf36ea9"
      },
      "execution_count": null,
      "outputs": [
        {
          "output_type": "stream",
          "name": "stdout",
          "text": [
            "Epoch 1/10\n",
            "782/782 [==============================] - 72s 87ms/step - loss: 0.5007 - accuracy: 0.7535 - val_loss: 0.4964 - val_accuracy: 0.7603\n",
            "Epoch 2/10\n",
            "782/782 [==============================] - 34s 43ms/step - loss: 0.3680 - accuracy: 0.8494 - val_loss: 0.3312 - val_accuracy: 0.8640\n",
            "Epoch 3/10\n",
            "782/782 [==============================] - 34s 43ms/step - loss: 0.3149 - accuracy: 0.8784 - val_loss: 0.3281 - val_accuracy: 0.8645\n",
            "Epoch 4/10\n",
            "782/782 [==============================] - 33s 42ms/step - loss: 0.2999 - accuracy: 0.8837 - val_loss: 0.3285 - val_accuracy: 0.8596\n",
            "Epoch 5/10\n",
            "782/782 [==============================] - 31s 40ms/step - loss: 0.2825 - accuracy: 0.8915 - val_loss: 0.3326 - val_accuracy: 0.8700\n",
            "Epoch 6/10\n",
            "782/782 [==============================] - 31s 40ms/step - loss: 0.2617 - accuracy: 0.9007 - val_loss: 0.3195 - val_accuracy: 0.8672\n",
            "Epoch 7/10\n",
            "782/782 [==============================] - 32s 41ms/step - loss: 0.2593 - accuracy: 0.9004 - val_loss: 0.3251 - val_accuracy: 0.8718\n",
            "Epoch 8/10\n",
            "782/782 [==============================] - 32s 40ms/step - loss: 0.2392 - accuracy: 0.9089 - val_loss: 0.3289 - val_accuracy: 0.8716\n",
            "Epoch 9/10\n",
            "782/782 [==============================] - 31s 40ms/step - loss: 0.2255 - accuracy: 0.9140 - val_loss: 0.3550 - val_accuracy: 0.8713\n",
            "Epoch 10/10\n",
            "782/782 [==============================] - 30s 38ms/step - loss: 0.2214 - accuracy: 0.9162 - val_loss: 0.3449 - val_accuracy: 0.8725\n"
          ]
        }
      ]
    },
    {
      "cell_type": "markdown",
      "source": [
        "After optimizing the hyperparameters of Bidirectinal LSTM, this is the best model I obtained. It does have some overfitting, but was still able to get 87% validation accuracy in final epoch with no major downfall in accuracy during training iterations(epochs)."
      ],
      "metadata": {
        "id": "WZC158Ii9_kG"
      }
    },
    {
      "cell_type": "code",
      "source": [
        "plt.plot(history2.history['accuracy'], label = 'Training Accuracy')\n",
        "plt.plot(history2.history['val_accuracy'], label = 'Validation Accuracy')\n",
        "plt.legend()\n",
        "plt.plot()"
      ],
      "metadata": {
        "colab": {
          "base_uri": "https://localhost:8080/",
          "height": 448
        },
        "id": "6HqFis2RbRNc",
        "outputId": "3b89d333-2048-49c0-bdb2-21cb1164759b"
      },
      "execution_count": null,
      "outputs": [
        {
          "output_type": "execute_result",
          "data": {
            "text/plain": [
              "[]"
            ]
          },
          "metadata": {},
          "execution_count": 23
        },
        {
          "output_type": "display_data",
          "data": {
            "text/plain": [
              "<Figure size 640x480 with 1 Axes>"
            ],
            "image/png": "[encoded data removed]"
          },
          "metadata": {}
        }
      ]
    },
    {
      "cell_type": "code",
      "source": [
        "plt.plot(history2.history['loss'], label = 'Training Loss')\n",
        "plt.plot(history2.history['val_loss'], label = 'Validation Loss')\n",
        "plt.legend()\n",
        "plt.plot()"
      ],
      "metadata": {
        "colab": {
          "base_uri": "https://localhost:8080/",
          "height": 448
        },
        "id": "cH7MgCwieg-r",
        "outputId": "7c3598bd-c6eb-4e0f-b41f-6bb026beee03"
      },
      "execution_count": null,
      "outputs": [
        {
          "output_type": "execute_result",
          "data": {
            "text/plain": [
              "[]"
            ]
          },
          "metadata": {},
          "execution_count": 24
        },
        {
          "output_type": "display_data",
          "data": {
            "text/plain": [
              "<Figure size 640x480 with 1 Axes>"
            ],
            "image/png": "[encoded data removed]"
          },
          "metadata": {}
        }
      ]
    },
    {
      "cell_type": "markdown",
      "source": [
        "# Conclusion"
      ],
      "metadata": {
        "id": "r-E6QX8g-l0E"
      }
    },
    {
      "cell_type": "markdown",
      "source": [
        "While training IMDB review model with Simple Neural Network and LSTM, it wasn't able to learn the complexity present in dataset. It was underfit. To solve this problem, I used Bidirectional with LSTM, which was able to learn the complexity present in dataset, but was prone to overfitting. After optimizing the overfitting in Bidirectional LSTM model, this is the best performing model that I obtained."
      ],
      "metadata": {
        "id": "pEi-RmK7-nW1"
      }
    },
    {
      "cell_type": "markdown",
      "source": [
        "#Saving the model"
      ],
      "metadata": {
        "id": "YF_hPstR987t"
      }
    },
    {
      "cell_type": "code",
      "source": [
        "bi_lstm_model.save('bi_lstm_model_for_IMDB_sentiment_analysis.h5')"
      ],
      "metadata": {
        "colab": {
          "base_uri": "https://localhost:8080/"
        },
        "id": "aWAsGe0MwUJl",
        "outputId": "5f4661c3-4c46-456d-bd42-cfd97b0a3c37"
      },
      "execution_count": null,
      "outputs": [
        {
          "output_type": "stream",
          "name": "stderr",
          "text": [
            "/usr/local/lib/python3.10/dist-packages/keras/src/engine/training.py:3000: UserWarning: You are saving your model as an HDF5 file via `model.save()`. This file format is considered legacy. We recommend using instead the native Keras format, e.g. `model.save('my_model.keras')`.\n",
            "  saving_api.save_model(\n"
          ]
        }
      ]
    },
    {
      "cell_type": "code",
      "source": [
        "import pickle\n",
        "with open('bi_lstm_model_for_IMDB_sentiment_analysis.pickle', 'wb') as file:\n",
        "  pickle.dump(bi_lstm_model, file)"
      ],
      "metadata": {
        "id": "8uXkqxgP7eGh"
      },
      "execution_count": null,
      "outputs": []
    }
  ]
}